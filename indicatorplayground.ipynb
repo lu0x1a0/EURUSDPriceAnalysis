{
 "cells": [
  {
   "cell_type": "code",
   "execution_count": null,
   "source": [
    "import sys\n",
    "from newqt import MainWindow, QApplication\n",
    "app = QApplication(sys.argv)     \n",
    "window = MainWindow()\n",
    "window.show()\n",
    "app.exec()    "
   ],
   "outputs": [
    {
     "output_type": "error",
     "ename": "Error",
     "evalue": "Session cannot generate requests",
     "traceback": [
      "Error: Session cannot generate requests",
      "at w.executeCodeCell (/home/sean/.vscode-server/extensions/ms-toolsai.jupyter-2021.8.1236758218/out/client/extension.js:90:327199)",
      "at w.execute (/home/sean/.vscode-server/extensions/ms-toolsai.jupyter-2021.8.1236758218/out/client/extension.js:90:326520)",
      "at w.start (/home/sean/.vscode-server/extensions/ms-toolsai.jupyter-2021.8.1236758218/out/client/extension.js:90:322336)",
      "at runMicrotasks (<anonymous>)",
      "at processTicksAndRejections (internal/process/task_queues.js:93:5)",
      "at async t.CellExecutionQueue.executeQueuedCells (/home/sean/.vscode-server/extensions/ms-toolsai.jupyter-2021.8.1236758218/out/client/extension.js:90:336863)",
      "at async t.CellExecutionQueue.start (/home/sean/.vscode-server/extensions/ms-toolsai.jupyter-2021.8.1236758218/out/client/extension.js:90:336403)"
     ]
    }
   ],
   "metadata": {}
  },
  {
   "cell_type": "code",
   "execution_count": 1,
   "source": [
    "from DataManipulation.indicators import DEMA,MYEMA,D1\n",
    "from QTVisual.Plot import PlotPanel\n",
    "from newqt import getOHLC_pickle\n",
    "from time import time\n",
    "t = time()\n",
    "mdata = getOHLC_pickle(\"EURUSD_M_2010_2021.pkl\")\n",
    "data = mdata.resample('1H').agg({'Open': 'first', \n",
    "                    'High': 'max', \n",
    "                    'Low': 'min', \n",
    "                    'Close': 'last'}).dropna()\n",
    "# 9min\n",
    "demaperiod = 9\n",
    "\n",
    "data[\"dema9_Hi\"] = DEMA(data['High'],demaperiod)\n",
    "data[\"dema9_Lo\"] = DEMA(data['Low'],demaperiod)\n",
    "data[\"dema9_Cl\"] = DEMA(data['Open'],demaperiod)\n",
    "\n",
    "\n",
    "print(data.columns)\n",
    "print(time()-t)\n",
    "t = time()\n",
    "#plotpanels = [\n",
    "#    PlotPanel(\n",
    "#        data[[\"Open\",\"High\",\"Low\",\"Close\"]],\n",
    "#    )\n",
    "#]\n",
    "#return plotpanels,data\n",
    "import sys\n",
    "from newqt import MainWindow, QApplication\n",
    "app = QApplication(sys.argv)     \n",
    "window = MainWindow(dfs = [data[[\"Open\",\"High\",\"Low\",\"Close\",\"dema9_Hi\",\"dema9_Lo\",\"dema9_Cl\"]]])\n",
    "window.show()\n",
    "app.exec()   \n"
   ],
   "outputs": [
    {
     "output_type": "stream",
     "name": "stdout",
     "text": [
      "Index(['Open', 'High', 'Low', 'Close', 'dema9_Hi', 'dema9_Lo', 'dema9_Cl'], dtype='object')\n",
      "1.4156897068023682\n"
     ]
    },
    {
     "output_type": "stream",
     "name": "stderr",
     "text": [
      "QStandardPaths: XDG_RUNTIME_DIR not set, defaulting to '/tmp/runtime-sean'\n",
      "libGL error: No matching fbConfigs or visuals found\n",
      "libGL error: failed to load driver: swrast\n"
     ]
    },
    {
     "output_type": "execute_result",
     "data": {
      "text/plain": [
       "0"
      ]
     },
     "metadata": {},
     "execution_count": 1
    }
   ],
   "metadata": {}
  },
  {
   "cell_type": "code",
   "execution_count": 1,
   "source": [
    "x=1"
   ],
   "outputs": [],
   "metadata": {}
  },
  {
   "cell_type": "code",
   "execution_count": 1,
   "source": [
    "import pyqtgraph as pg\n",
    "from pyqtgraph import QtCore, QtGui\n",
    "\n",
    "## Create a subclass of GraphicsObject.\n",
    "## The only required methods are paint() and boundingRect() \n",
    "## (see QGraphicsItem documentation)\n",
    "class CandlestickItem(pg.GraphicsObject):\n",
    "    def __init__(self, data):\n",
    "        pg.GraphicsObject.__init__(self)\n",
    "        self.data = data  ## data must have fields: time, open, close, min, max\n",
    "        self.generatePicture()\n",
    "    \n",
    "    def generatePicture(self):\n",
    "        ## pre-computing a QPicture object allows paint() to run much more quickly, \n",
    "        ## rather than re-drawing the shapes every time.\n",
    "        self.picture = QtGui.QPicture()\n",
    "        p = QtGui.QPainter(self.picture)\n",
    "        p.setPen(pg.mkPen('w'))\n",
    "        w = (self.data[1][0] - self.data[0][0]) / 3.\n",
    "        for (t, open, close, min, max) in self.data:\n",
    "            p.drawLine(QtCore.QPointF(t, min), QtCore.QPointF(t, max))\n",
    "            if open > close:\n",
    "                p.setBrush(pg.mkBrush('r'))\n",
    "            else:\n",
    "                p.setBrush(pg.mkBrush('g'))\n",
    "            p.drawRect(QtCore.QRectF(t-w, open, w*2, close-open))\n",
    "        p.end()\n",
    "    \n",
    "    def paint(self, p, *args):\n",
    "        p.drawPicture(0, 0, self.picture)\n",
    "    \n",
    "    def boundingRect(self):\n",
    "        ## boundingRect _must_ indicate the entire area that will be drawn on\n",
    "        ## or else we will get artifacts and possibly crashing.\n",
    "        ## (in this case, QPicture does all the work of computing the bouning rect for us)\n",
    "        return QtCore.QRectF(self.picture.boundingRect())\n",
    "\n",
    "data = [  ## fields are (time, open, close, min, max).\n",
    "    (1., 10, 13, 5, 15),\n",
    "    (2., 13, 17, 9, 20),\n",
    "    (3., 17, 14, 11, 23),\n",
    "    (4., 14, 15, 5, 19),\n",
    "    (5., 15, 9, 8, 22),\n",
    "    (6., 9, 15, 8, 16),\n",
    "]\n",
    "item = CandlestickItem(data)\n",
    "plt = pg.plot()\n",
    "plt.addItem(item)\n",
    "plt.setWindowTitle('pyqtgraph example: customGraphicsItem')\n",
    "\n",
    "## Start Qt event loop unless running in interactive mode or using pyside.\n",
    "if __name__ == '__main__':\n",
    "    import sys\n",
    "    if (sys.flags.interactive != 1) or not hasattr(QtCore, 'PYQT_VERSION'):\n",
    "        QtGui.QApplication.instance().exec_()"
   ],
   "outputs": [
    {
     "output_type": "stream",
     "name": "stderr",
     "text": [
      "QStandardPaths: XDG_RUNTIME_DIR not set, defaulting to '/tmp/runtime-sean'\n",
      "libGL error: No matching fbConfigs or visuals found\n",
      "libGL error: failed to load driver: swrast\n"
     ]
    }
   ],
   "metadata": {}
  }
 ],
 "metadata": {
  "orig_nbformat": 4,
  "language_info": {
   "name": "python",
   "version": "3.9.7",
   "mimetype": "text/x-python",
   "codemirror_mode": {
    "name": "ipython",
    "version": 3
   },
   "pygments_lexer": "ipython3",
   "nbconvert_exporter": "python",
   "file_extension": ".py"
  },
  "kernelspec": {
   "name": "python3",
   "display_name": "Python 3.9.7 64-bit ('qttrade': conda)"
  },
  "interpreter": {
   "hash": "a67e17c8fc420817cbdbd0caa16d6c1c40b59f1d67d5d3254ca561366ced5b2e"
  }
 },
 "nbformat": 4,
 "nbformat_minor": 2
}