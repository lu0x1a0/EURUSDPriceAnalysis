{
  "cells": [
    {
      "cell_type": "code",
      "source": [
        "! git clone https://github.com/lu0x1a0/EURUSDPriceAnalysis.git"
      ],
      "metadata": {
        "colab": {
          "base_uri": "https://localhost:8080/"
        },
        "id": "VcwF_MKZD2aG",
        "outputId": "0f06b46b-e931-4941-e834-0c353a639e4b"
      },
      "execution_count": 1,
      "outputs": [
        {
          "output_type": "stream",
          "name": "stdout",
          "text": [
            "Cloning into 'EURUSDPriceAnalysis'...\n",
            "remote: Enumerating objects: 188, done.\u001b[K\n",
            "remote: Counting objects: 100% (108/108), done.\u001b[K\n",
            "remote: Compressing objects: 100% (74/74), done.\u001b[K\n",
            "remote: Total 188 (delta 39), reused 93 (delta 27), pack-reused 80\u001b[K\n",
            "Receiving objects: 100% (188/188), 48.33 MiB | 16.71 MiB/s, done.\n",
            "Resolving deltas: 100% (77/77), done.\n",
            "Checking out files: 100% (45/45), done.\n"
          ]
        }
      ]
    },
    {
      "cell_type": "code",
      "source": [
        "!mv EURUSDPriceAnalysis/* ."
      ],
      "metadata": {
        "id": "bV0_WyZHCGze"
      },
      "execution_count": 3,
      "outputs": []
    },
    {
      "cell_type": "code",
      "source": [
        "url = 'https://anaconda.org/conda-forge/libta-lib/0.4.0/download/linux-64/libta-lib-0.4.0-h516909a_0.tar.bz2'\n",
        "!curl -L $url | tar xj -C /usr/lib/x86_64-linux-gnu/ lib --strip-components=1\n",
        "url = 'https://anaconda.org/conda-forge/ta-lib/0.4.19/download/linux-64/ta-lib-0.4.19-py37ha21ca33_2.tar.bz2'\n",
        "!curl -L $url | tar xj -C /usr/local/lib/python3.7/dist-packages/ lib/python3.7/site-packages/talib --strip-components=3\n",
        "import talib\n",
        "!pip install numpy==1.20.0\n",
        "!pip install torchinfo"
      ],
      "metadata": {
        "colab": {
          "base_uri": "https://localhost:8080/",
          "height": 584
        },
        "id": "5qjsEOcMESpW",
        "outputId": "82488d95-c17a-46cb-fc32-edcdd9cdd76f"
      },
      "execution_count": 2,
      "outputs": [
        {
          "output_type": "stream",
          "name": "stdout",
          "text": [
            "  % Total    % Received % Xferd  Average Speed   Time    Time     Time  Current\n",
            "                                 Dload  Upload   Total   Spent    Left  Speed\n",
            "100  3765    0  3765    0     0  16298      0 --:--:-- --:--:-- --:--:-- 16298\n",
            "100  503k  100  503k    0     0   714k      0 --:--:-- --:--:-- --:--:-- 3346k\n",
            "  % Total    % Received % Xferd  Average Speed   Time    Time     Time  Current\n",
            "                                 Dload  Upload   Total   Spent    Left  Speed\n",
            "100  3773    0  3773    0     0  18139      0 --:--:-- --:--:-- --:--:-- 18139\n",
            "100  406k  100  406k    0     0   605k      0 --:--:-- --:--:-- --:--:-- 1086k\n",
            "Collecting numpy==1.20.0\n",
            "  Downloading numpy-1.20.0-cp37-cp37m-manylinux2010_x86_64.whl (15.3 MB)\n",
            "\u001b[K     |████████████████████████████████| 15.3 MB 70 kB/s \n",
            "\u001b[?25hInstalling collected packages: numpy\n",
            "  Attempting uninstall: numpy\n",
            "    Found existing installation: numpy 1.19.5\n",
            "    Uninstalling numpy-1.19.5:\n",
            "      Successfully uninstalled numpy-1.19.5\n",
            "\u001b[31mERROR: pip's dependency resolver does not currently take into account all the packages that are installed. This behaviour is the source of the following dependency conflicts.\n",
            "yellowbrick 1.3.post1 requires numpy<1.20,>=1.16.0, but you have numpy 1.20.0 which is incompatible.\n",
            "datascience 0.10.6 requires folium==0.2.1, but you have folium 0.8.3 which is incompatible.\n",
            "albumentations 0.1.12 requires imgaug<0.2.7,>=0.2.5, but you have imgaug 0.2.9 which is incompatible.\u001b[0m\n",
            "Successfully installed numpy-1.20.0\n"
          ]
        },
        {
          "output_type": "display_data",
          "data": {
            "application/vnd.colab-display-data+json": {
              "pip_warning": {
                "packages": [
                  "numpy"
                ]
              }
            }
          },
          "metadata": {}
        },
        {
          "output_type": "stream",
          "name": "stdout",
          "text": [
            "Collecting torchinfo\n",
            "  Downloading torchinfo-1.6.1-py3-none-any.whl (20 kB)\n",
            "Installing collected packages: torchinfo\n",
            "Successfully installed torchinfo-1.6.1\n"
          ]
        }
      ]
    },
    {
      "cell_type": "code",
      "execution_count": 1,
      "source": [
        "from DataManipulation.DataHandler import getOHLC_pickle, getOHLC_raw\n",
        "#data = getOHLC_pickle(\"EURUSD_M_2010_2021.pkl\")\n",
        "data = getOHLC_raw()\n",
        "data = data.resample('1H').agg({'Open': 'first', \n",
        "                        'High': 'max', \n",
        "                        'Low': 'min', \n",
        "                        'Close': 'last'}).dropna()"
      ],
      "outputs": [],
      "metadata": {
        "id": "enC3wsmbB5wj"
      }
    },
    {
      "cell_type": "code",
      "execution_count": 2,
      "source": [
        "#generates the indicators\n",
        "from DataManipulation.indicators import DEMA, D1, MaxMinRollNorm\n",
        "demaperiod = [9]\n",
        "for p in demaperiod:\n",
        "    data['dema'+str(p)] = DEMA(data['Close'],p)\n",
        "    data['D1dema'+str(p)] = D1(data['dema'+str(p)])\n",
        "#    data['normD1dema'+str(p)] = MaxMinRollNorm(data['D1dema'+str(p)], 24*250) # 250 approximated larger than all trading days in a year\n",
        "\n",
        "stdperiod = [9,100,300]\n",
        "for p in stdperiod:\n",
        "    data['std'+str(p)+\"_dema9\"]  = data['dema9'].rolling(p).std()\n",
        "    data['std'+str(p)+\"_D1dema9\"]= data['D1dema9'].rolling(p).std()\n",
        "print(data.columns)"
      ],
      "outputs": [
        {
          "output_type": "stream",
          "name": "stdout",
          "text": [
            "Index(['Open', 'High', 'Low', 'Close', 'dema9', 'D1dema9', 'std9_dema9',\n",
            "       'std9_D1dema9', 'std100_dema9', 'std100_D1dema9', 'std300_dema9',\n",
            "       'std300_D1dema9'],\n",
            "      dtype='object')\n"
          ]
        }
      ],
      "metadata": {
        "colab": {
          "base_uri": "https://localhost:8080/"
        },
        "id": "a1jlUCEuB5w3",
        "outputId": "20896591-4f69-403a-aa03-ff6c502d0ee1"
      }
    },
    {
      "cell_type": "code",
      "execution_count": null,
      "source": [
        "#import numpy as np\n",
        "#import pandas as pd\n",
        "#x = pd.Series([np.nan,1,2,3,4,5,6,7,8,9])\n",
        "#y = pd.Series([np.nan,2,3,4,5,6,7,8,9,10])\n",
        "#print((x[1:]-y[:-1]).shape)\n",
        "#print((x[1:]-y[:-1]))\n",
        "#print((x[1:].to_numpy()-y[:-1].to_numpy()))"
      ],
      "outputs": [],
      "metadata": {
        "id": "Z-8UZJ6YB5xA"
      }
    },
    {
      "cell_type": "code",
      "execution_count": 3,
      "source": [
        "import pandas as pd\n",
        "prediction_ind = ['D1dema9','std9_dema9','std9_D1dema9', 'std100_dema9', 'std100_D1dema9', 'std300_dema9','std300_D1dema9']\n",
        "preds = pd.DataFrame()\n",
        "for n in prediction_ind:\n",
        "    preds[n+\"_norm\"] = MaxMinRollNorm(data[n], 24*250)\n",
        "preds.tail()"
      ],
      "outputs": [
        {
          "output_type": "execute_result",
          "data": {
            "text/html": [
              "\n",
              "  <div id=\"df-c69b417e-d93a-4208-8177-ef9cb18f427a\">\n",
              "    <div class=\"colab-df-container\">\n",
              "      <div>\n",
              "<style scoped>\n",
              "    .dataframe tbody tr th:only-of-type {\n",
              "        vertical-align: middle;\n",
              "    }\n",
              "\n",
              "    .dataframe tbody tr th {\n",
              "        vertical-align: top;\n",
              "    }\n",
              "\n",
              "    .dataframe thead th {\n",
              "        text-align: right;\n",
              "    }\n",
              "</style>\n",
              "<table border=\"1\" class=\"dataframe\">\n",
              "  <thead>\n",
              "    <tr style=\"text-align: right;\">\n",
              "      <th></th>\n",
              "      <th>D1dema9_norm</th>\n",
              "      <th>std9_dema9_norm</th>\n",
              "      <th>std9_D1dema9_norm</th>\n",
              "      <th>std100_dema9_norm</th>\n",
              "      <th>std100_D1dema9_norm</th>\n",
              "      <th>std300_dema9_norm</th>\n",
              "      <th>std300_D1dema9_norm</th>\n",
              "    </tr>\n",
              "    <tr>\n",
              "      <th>Date</th>\n",
              "      <th></th>\n",
              "      <th></th>\n",
              "      <th></th>\n",
              "      <th></th>\n",
              "      <th></th>\n",
              "      <th></th>\n",
              "      <th></th>\n",
              "    </tr>\n",
              "  </thead>\n",
              "  <tbody>\n",
              "    <tr>\n",
              "      <th>2021-09-30 19:00:00</th>\n",
              "      <td>0.549541</td>\n",
              "      <td>0.035342</td>\n",
              "      <td>0.157625</td>\n",
              "      <td>0.417056</td>\n",
              "      <td>0.216130</td>\n",
              "      <td>0.387081</td>\n",
              "      <td>0.228713</td>\n",
              "    </tr>\n",
              "    <tr>\n",
              "      <th>2021-09-30 20:00:00</th>\n",
              "      <td>0.509068</td>\n",
              "      <td>0.031738</td>\n",
              "      <td>0.166833</td>\n",
              "      <td>0.421059</td>\n",
              "      <td>0.216888</td>\n",
              "      <td>0.390208</td>\n",
              "      <td>0.211806</td>\n",
              "    </tr>\n",
              "    <tr>\n",
              "      <th>2021-09-30 21:00:00</th>\n",
              "      <td>0.593398</td>\n",
              "      <td>0.035424</td>\n",
              "      <td>0.145746</td>\n",
              "      <td>0.424265</td>\n",
              "      <td>0.215617</td>\n",
              "      <td>0.392990</td>\n",
              "      <td>0.210738</td>\n",
              "    </tr>\n",
              "    <tr>\n",
              "      <th>2021-09-30 22:00:00</th>\n",
              "      <td>0.599056</td>\n",
              "      <td>0.033126</td>\n",
              "      <td>0.123020</td>\n",
              "      <td>0.426708</td>\n",
              "      <td>0.215817</td>\n",
              "      <td>0.395560</td>\n",
              "      <td>0.211329</td>\n",
              "    </tr>\n",
              "    <tr>\n",
              "      <th>2021-09-30 23:00:00</th>\n",
              "      <td>0.585908</td>\n",
              "      <td>0.033670</td>\n",
              "      <td>0.104754</td>\n",
              "      <td>0.428453</td>\n",
              "      <td>0.214252</td>\n",
              "      <td>0.397978</td>\n",
              "      <td>0.211484</td>\n",
              "    </tr>\n",
              "  </tbody>\n",
              "</table>\n",
              "</div>\n",
              "      <button class=\"colab-df-convert\" onclick=\"convertToInteractive('df-c69b417e-d93a-4208-8177-ef9cb18f427a')\"\n",
              "              title=\"Convert this dataframe to an interactive table.\"\n",
              "              style=\"display:none;\">\n",
              "        \n",
              "  <svg xmlns=\"http://www.w3.org/2000/svg\" height=\"24px\"viewBox=\"0 0 24 24\"\n",
              "       width=\"24px\">\n",
              "    <path d=\"M0 0h24v24H0V0z\" fill=\"none\"/>\n",
              "    <path d=\"M18.56 5.44l.94 2.06.94-2.06 2.06-.94-2.06-.94-.94-2.06-.94 2.06-2.06.94zm-11 1L8.5 8.5l.94-2.06 2.06-.94-2.06-.94L8.5 2.5l-.94 2.06-2.06.94zm10 10l.94 2.06.94-2.06 2.06-.94-2.06-.94-.94-2.06-.94 2.06-2.06.94z\"/><path d=\"M17.41 7.96l-1.37-1.37c-.4-.4-.92-.59-1.43-.59-.52 0-1.04.2-1.43.59L10.3 9.45l-7.72 7.72c-.78.78-.78 2.05 0 2.83L4 21.41c.39.39.9.59 1.41.59.51 0 1.02-.2 1.41-.59l7.78-7.78 2.81-2.81c.8-.78.8-2.07 0-2.86zM5.41 20L4 18.59l7.72-7.72 1.47 1.35L5.41 20z\"/>\n",
              "  </svg>\n",
              "      </button>\n",
              "      \n",
              "  <style>\n",
              "    .colab-df-container {\n",
              "      display:flex;\n",
              "      flex-wrap:wrap;\n",
              "      gap: 12px;\n",
              "    }\n",
              "\n",
              "    .colab-df-convert {\n",
              "      background-color: #E8F0FE;\n",
              "      border: none;\n",
              "      border-radius: 50%;\n",
              "      cursor: pointer;\n",
              "      display: none;\n",
              "      fill: #1967D2;\n",
              "      height: 32px;\n",
              "      padding: 0 0 0 0;\n",
              "      width: 32px;\n",
              "    }\n",
              "\n",
              "    .colab-df-convert:hover {\n",
              "      background-color: #E2EBFA;\n",
              "      box-shadow: 0px 1px 2px rgba(60, 64, 67, 0.3), 0px 1px 3px 1px rgba(60, 64, 67, 0.15);\n",
              "      fill: #174EA6;\n",
              "    }\n",
              "\n",
              "    [theme=dark] .colab-df-convert {\n",
              "      background-color: #3B4455;\n",
              "      fill: #D2E3FC;\n",
              "    }\n",
              "\n",
              "    [theme=dark] .colab-df-convert:hover {\n",
              "      background-color: #434B5C;\n",
              "      box-shadow: 0px 1px 3px 1px rgba(0, 0, 0, 0.15);\n",
              "      filter: drop-shadow(0px 1px 2px rgba(0, 0, 0, 0.3));\n",
              "      fill: #FFFFFF;\n",
              "    }\n",
              "  </style>\n",
              "\n",
              "      <script>\n",
              "        const buttonEl =\n",
              "          document.querySelector('#df-c69b417e-d93a-4208-8177-ef9cb18f427a button.colab-df-convert');\n",
              "        buttonEl.style.display =\n",
              "          google.colab.kernel.accessAllowed ? 'block' : 'none';\n",
              "\n",
              "        async function convertToInteractive(key) {\n",
              "          const element = document.querySelector('#df-c69b417e-d93a-4208-8177-ef9cb18f427a');\n",
              "          const dataTable =\n",
              "            await google.colab.kernel.invokeFunction('convertToInteractive',\n",
              "                                                     [key], {});\n",
              "          if (!dataTable) return;\n",
              "\n",
              "          const docLinkHtml = 'Like what you see? Visit the ' +\n",
              "            '<a target=\"_blank\" href=https://colab.research.google.com/notebooks/data_table.ipynb>data table notebook</a>'\n",
              "            + ' to learn more about interactive tables.';\n",
              "          element.innerHTML = '';\n",
              "          dataTable['output_type'] = 'display_data';\n",
              "          await google.colab.output.renderOutput(dataTable, element);\n",
              "          const docLink = document.createElement('div');\n",
              "          docLink.innerHTML = docLinkHtml;\n",
              "          element.appendChild(docLink);\n",
              "        }\n",
              "      </script>\n",
              "    </div>\n",
              "  </div>\n",
              "  "
            ],
            "text/plain": [
              "                     D1dema9_norm  ...  std300_D1dema9_norm\n",
              "Date                               ...                     \n",
              "2021-09-30 19:00:00      0.549541  ...             0.228713\n",
              "2021-09-30 20:00:00      0.509068  ...             0.211806\n",
              "2021-09-30 21:00:00      0.593398  ...             0.210738\n",
              "2021-09-30 22:00:00      0.599056  ...             0.211329\n",
              "2021-09-30 23:00:00      0.585908  ...             0.211484\n",
              "\n",
              "[5 rows x 7 columns]"
            ]
          },
          "metadata": {},
          "execution_count": 3
        }
      ],
      "metadata": {
        "colab": {
          "base_uri": "https://localhost:8080/",
          "height": 237
        },
        "id": "cVAoFUPtB5xE",
        "outputId": "0c1a544c-885e-4cfb-d409-4213f83d5a14"
      }
    },
    {
      "cell_type": "code",
      "execution_count": 9,
      "source": [
        "#import matplotlib.pyplot as plt\n",
        "#plt.plot(preds['D1dema9_norm'].iloc[:]) # might consider to only divide, not subtract minimum as direction might be useful?\n",
        "#plt.show()\n",
        "#plt.plot(preds['std9_dema9_norm'].iloc[-500:])\n",
        "#plt.show()\n",
        "#plt.plot(preds['std100_dema9_norm'].iloc[-1000:])\n",
        "#plt.show()"
      ],
      "outputs": [],
      "metadata": {
        "id": "1T8rRSIhB5xH"
      }
    },
    {
      "cell_type": "code",
      "execution_count": 4,
      "source": [
        "from numpy.lib.stride_tricks import sliding_window_view\n",
        "raw =  preds.dropna().to_numpy()\n",
        "wind = sliding_window_view(raw,window_shape = 3*5*24, axis=0)\n",
        "#print(wind[-1,:])\n",
        "print(wind.shape)\n",
        "#print(wind[~pd.isna(wind)].shape)\n",
        "x = wind[:-1,:]\n",
        "target_column = \"std100_dema9_norm\"\n",
        "y = wind[1:,3,-1]\n",
        "print(x.shape,y.shape)"
      ],
      "outputs": [
        {
          "output_type": "stream",
          "name": "stdout",
          "text": [
            "(66390, 7, 360)\n",
            "(66389, 7, 360) (66389,)\n"
          ]
        }
      ],
      "metadata": {
        "colab": {
          "base_uri": "https://localhost:8080/"
        },
        "id": "Cur_Xdz8B5xJ",
        "outputId": "8a132771-d701-42ee-a924-2644e3da102c"
      }
    },
    {
      "cell_type": "code",
      "execution_count": 5,
      "source": [
        "from torch.utils.data import TensorDataset\n",
        "import torch\n",
        "train_x = torch.Tensor(x[0:int(len(x)*0.7),])\n",
        "train_y = torch.Tensor(y[0:int(len(x)*0.7)]).unsqueeze(1)\n",
        "test_x  = torch.Tensor(x[int(len(x)*0.7):,])\n",
        "test_y  = torch.Tensor(y[int(len(x)*0.7):]).unsqueeze(1)\n",
        "\n",
        "train_dataset = TensorDataset(torch.Tensor(x[0:int(len(x)*0.7),]),torch.Tensor(y[0:int(len(x)*0.7)]).unsqueeze(1) )\n",
        "test_dataset =  TensorDataset(torch.Tensor(x[int(len(x)*0.7):,]), torch.Tensor(y[int(len(x)*0.7):]).unsqueeze(1) )\n",
        "\n",
        "trainloader = torch.utils.data.DataLoader(train_dataset,\n",
        "                            batch_size=32, shuffle=True)\n",
        "testloader = torch.utils.data.DataLoader(test_dataset,\n",
        "                            batch_size=32, shuffle=True)\n"
      ],
      "outputs": [
        {
          "output_type": "stream",
          "name": "stderr",
          "text": [
            "/usr/local/lib/python3.7/dist-packages/ipykernel_launcher.py:3: UserWarning: The given NumPy array is not writeable, and PyTorch does not support non-writeable tensors. This means you can write to the underlying (supposedly non-writeable) NumPy array using the tensor. You may want to copy the array to protect its data or make it writeable before converting it to a tensor. This type of warning will be suppressed for the rest of this program. (Triggered internally at  ../torch/csrc/utils/tensor_numpy.cpp:189.)\n",
            "  This is separate from the ipykernel package so we can avoid doing imports until\n"
          ]
        }
      ],
      "metadata": {
        "colab": {
          "base_uri": "https://localhost:8080/"
        },
        "id": "15Wn145eB5xL",
        "outputId": "16c28cbf-bb58-485e-c174-66d081bec060"
      }
    },
    {
      "cell_type": "code",
      "execution_count": 6,
      "source": [
        "import torch\n",
        "from torch import optim\n",
        "from Models.neural import STDConvModel\n",
        "model = STDConvModel(3*5*24, 7, 12,stride1=2,stride2=2)\n",
        "\n",
        "device = torch.device('cuda:0' if torch.cuda.is_available() else 'cpu')\n",
        "net = model.to(device)\n",
        "print(next(net.parameters()).is_cuda)\n",
        "class reverseKLD(torch.nn.Module):\n",
        "    \"\"\"\n",
        "    Class for creating a custom loss function, if desired.\n",
        "    If you instead specify a standard loss function,\n",
        "    you can remove or comment out this class.\n",
        "    \"\"\"\n",
        "    def __init__(self):\n",
        "        super(reverseKLD, self).__init__()\n",
        "        self.loss = torch.nn.KLDivLoss()\n",
        "    def forward(self, output, target):\n",
        "        #return torch.mean((output - target)**2)\n",
        "        return self.loss(target,output)\n",
        "criterion = reverseKLD()\n",
        "optimiser = optim.Adam(net.parameters())"
      ],
      "outputs": [
        {
          "output_type": "stream",
          "name": "stdout",
          "text": [
            "tensor([[0.4173],\n",
            "        [0.4173],\n",
            "        [0.4173],\n",
            "        [0.4173],\n",
            "        [0.4173],\n",
            "        [0.4173],\n",
            "        [0.4173],\n",
            "        [0.4173],\n",
            "        [0.4173],\n",
            "        [0.4173],\n",
            "        [0.4173],\n",
            "        [0.4173],\n",
            "        [0.4173],\n",
            "        [0.4173],\n",
            "        [0.4173],\n",
            "        [0.4173],\n",
            "        [0.4173],\n",
            "        [0.4173],\n",
            "        [0.4173],\n",
            "        [0.4173]], grad_fn=<SigmoidBackward0>)\n",
            "True\n"
          ]
        }
      ],
      "metadata": {
        "colab": {
          "base_uri": "https://localhost:8080/"
        },
        "id": "P5FS76TDB5xN",
        "outputId": "dd89b683-e67a-4e5c-bd98-086f89e0f5a2"
      }
    },
    {
      "cell_type": "code",
      "execution_count": 7,
      "source": [
        "def test_network(net,testloader, criterion):\n",
        "    net.eval()\n",
        "    total_images = 0\n",
        "    #total_correct = 0\n",
        "    with torch.no_grad():\n",
        "        for data in testloader:\n",
        "            images, labels = data\n",
        "            images = images.to(device)\n",
        "            labels = labels.to(device)\n",
        "            outputs = net(images)\n",
        "    #        _, predicted = torch.max(outputs.data, 1)\n",
        "            loss = criterion(output,labels)\n",
        "            total_images += labels.size(0)\n",
        "    #        total_correct += (predicted == labels).sum().item()\n",
        "\n",
        "    model_accuracy = 0 / total_images * 100\n",
        "    #print('      Accuracy on {0} test images: {1:.2f}%'.format(\n",
        "    #                            total_images, model_accuracy))\n",
        "    print(\"Test Loss: \", loss)\n",
        "    net.train()"
      ],
      "outputs": [],
      "metadata": {
        "id": "BduhibHsB5xP"
      }
    },
    {
      "cell_type": "code",
      "execution_count": 9,
      "source": [
        "print(\"Start training...\")\n",
        "for epoch in range(0,100):\n",
        "    total_loss = 0\n",
        "    total_timeframes = 0\n",
        "    #total_correct = 0\n",
        "    i = 0\n",
        "    for batch in trainloader:           # Load batch\n",
        "        batch_x, batch_y = batch \n",
        "        batch_x = batch_x.to(device)\n",
        "        batch_y = batch_y.to(device)\n",
        "        #print([x.get_device() for x in net.parameters()])\n",
        "        #print(next(net.parameters()).is_cuda)\n",
        "        #print(batch_x.get_device())\n",
        "        preds = net(batch_x)             # Process batch\n",
        "        loss = criterion(preds, batch_y) # Calculate loss\n",
        "        i += 1\n",
        "        optimiser.zero_grad()\n",
        "        loss.backward()                 # Calculate gradients\n",
        "        optimiser.step()                # Update weights\n",
        "\n",
        "        output = preds.argmax(dim=1)\n",
        "\n",
        "        total_loss += loss.item()\n",
        "        total_timeframes += batch_y.size(0)\n",
        "\n",
        "    print('epoch {0} total_correct: {1} loss: {2:.2f} acc: {3:.2f}'.format(\n",
        "                epoch,-1, total_loss, -1) )"
      ],
      "outputs": [
        {
          "output_type": "stream",
          "name": "stdout",
          "text": [
            "Start training...\n"
          ]
        },
        {
          "output_type": "stream",
          "name": "stderr",
          "text": [
            "/usr/local/lib/python3.7/dist-packages/torch/nn/functional.py:2748: UserWarning: reduction: 'mean' divides the total loss by both the batch size and the support size.'batchmean' divides only by the batch size, and aligns with the KL div math definition.'mean' will be changed to behave the same as 'batchmean' in the next major release.\n",
            "  \"reduction: 'mean' divides the total loss by both the batch size and the support size.\"\n"
          ]
        },
        {
          "output_type": "stream",
          "name": "stdout",
          "text": [
            "epoch 0 total_correct: -1 loss: -705.67 acc: -1.00\n",
            "epoch 1 total_correct: -1 loss: -705.92 acc: -1.00\n",
            "epoch 2 total_correct: -1 loss: -705.98 acc: -1.00\n",
            "epoch 3 total_correct: -1 loss: -706.05 acc: -1.00\n",
            "epoch 4 total_correct: -1 loss: -706.05 acc: -1.00\n",
            "epoch 5 total_correct: -1 loss: -706.13 acc: -1.00\n",
            "epoch 6 total_correct: -1 loss: -706.16 acc: -1.00\n",
            "epoch 7 total_correct: -1 loss: -706.10 acc: -1.00\n",
            "epoch 8 total_correct: -1 loss: -705.99 acc: -1.00\n",
            "epoch 9 total_correct: -1 loss: -706.07 acc: -1.00\n",
            "epoch 10 total_correct: -1 loss: -706.12 acc: -1.00\n",
            "epoch 11 total_correct: -1 loss: -706.12 acc: -1.00\n",
            "epoch 12 total_correct: -1 loss: -706.18 acc: -1.00\n",
            "epoch 13 total_correct: -1 loss: -706.20 acc: -1.00\n",
            "epoch 14 total_correct: -1 loss: -706.18 acc: -1.00\n",
            "epoch 15 total_correct: -1 loss: -706.21 acc: -1.00\n",
            "epoch 16 total_correct: -1 loss: -706.22 acc: -1.00\n",
            "epoch 17 total_correct: -1 loss: -706.18 acc: -1.00\n",
            "epoch 18 total_correct: -1 loss: -706.19 acc: -1.00\n",
            "epoch 19 total_correct: -1 loss: -706.21 acc: -1.00\n",
            "epoch 20 total_correct: -1 loss: -706.26 acc: -1.00\n",
            "epoch 21 total_correct: -1 loss: -706.23 acc: -1.00\n",
            "epoch 22 total_correct: -1 loss: -706.23 acc: -1.00\n",
            "epoch 23 total_correct: -1 loss: -706.21 acc: -1.00\n",
            "epoch 24 total_correct: -1 loss: -706.21 acc: -1.00\n",
            "epoch 25 total_correct: -1 loss: -706.27 acc: -1.00\n",
            "epoch 26 total_correct: -1 loss: -706.21 acc: -1.00\n",
            "epoch 27 total_correct: -1 loss: -706.25 acc: -1.00\n",
            "epoch 28 total_correct: -1 loss: -706.21 acc: -1.00\n",
            "epoch 29 total_correct: -1 loss: -706.23 acc: -1.00\n",
            "epoch 30 total_correct: -1 loss: -706.23 acc: -1.00\n",
            "epoch 31 total_correct: -1 loss: -706.23 acc: -1.00\n",
            "epoch 32 total_correct: -1 loss: -706.25 acc: -1.00\n",
            "epoch 33 total_correct: -1 loss: -706.25 acc: -1.00\n",
            "epoch 34 total_correct: -1 loss: -706.23 acc: -1.00\n",
            "epoch 35 total_correct: -1 loss: -706.23 acc: -1.00\n",
            "epoch 36 total_correct: -1 loss: -706.23 acc: -1.00\n",
            "epoch 37 total_correct: -1 loss: -706.32 acc: -1.00\n",
            "epoch 38 total_correct: -1 loss: -706.26 acc: -1.00\n",
            "epoch 39 total_correct: -1 loss: -706.28 acc: -1.00\n",
            "epoch 40 total_correct: -1 loss: -706.23 acc: -1.00\n",
            "epoch 41 total_correct: -1 loss: -706.23 acc: -1.00\n",
            "epoch 42 total_correct: -1 loss: -706.30 acc: -1.00\n",
            "epoch 43 total_correct: -1 loss: -706.27 acc: -1.00\n",
            "epoch 44 total_correct: -1 loss: -706.31 acc: -1.00\n",
            "epoch 45 total_correct: -1 loss: -706.27 acc: -1.00\n",
            "epoch 46 total_correct: -1 loss: -706.32 acc: -1.00\n",
            "epoch 47 total_correct: -1 loss: -706.27 acc: -1.00\n",
            "epoch 48 total_correct: -1 loss: -706.27 acc: -1.00\n",
            "epoch 49 total_correct: -1 loss: -706.32 acc: -1.00\n",
            "epoch 50 total_correct: -1 loss: -706.26 acc: -1.00\n",
            "epoch 51 total_correct: -1 loss: -706.24 acc: -1.00\n",
            "epoch 52 total_correct: -1 loss: -706.27 acc: -1.00\n",
            "epoch 53 total_correct: -1 loss: -706.26 acc: -1.00\n",
            "epoch 54 total_correct: -1 loss: -706.28 acc: -1.00\n",
            "epoch 55 total_correct: -1 loss: -706.28 acc: -1.00\n",
            "epoch 56 total_correct: -1 loss: -706.27 acc: -1.00\n",
            "epoch 57 total_correct: -1 loss: -706.23 acc: -1.00\n",
            "epoch 58 total_correct: -1 loss: -706.27 acc: -1.00\n",
            "epoch 59 total_correct: -1 loss: -706.29 acc: -1.00\n",
            "epoch 60 total_correct: -1 loss: -706.26 acc: -1.00\n",
            "epoch 61 total_correct: -1 loss: -706.24 acc: -1.00\n",
            "epoch 62 total_correct: -1 loss: -706.27 acc: -1.00\n",
            "epoch 63 total_correct: -1 loss: -706.30 acc: -1.00\n",
            "epoch 64 total_correct: -1 loss: -706.30 acc: -1.00\n",
            "epoch 65 total_correct: -1 loss: -706.27 acc: -1.00\n",
            "epoch 66 total_correct: -1 loss: -706.28 acc: -1.00\n",
            "epoch 67 total_correct: -1 loss: -706.31 acc: -1.00\n",
            "epoch 68 total_correct: -1 loss: -706.25 acc: -1.00\n",
            "epoch 69 total_correct: -1 loss: -706.30 acc: -1.00\n",
            "epoch 70 total_correct: -1 loss: -706.25 acc: -1.00\n",
            "epoch 71 total_correct: -1 loss: -706.25 acc: -1.00\n",
            "epoch 72 total_correct: -1 loss: -706.32 acc: -1.00\n",
            "epoch 73 total_correct: -1 loss: -706.27 acc: -1.00\n",
            "epoch 74 total_correct: -1 loss: -706.30 acc: -1.00\n",
            "epoch 75 total_correct: -1 loss: -706.25 acc: -1.00\n",
            "epoch 76 total_correct: -1 loss: -706.35 acc: -1.00\n",
            "epoch 77 total_correct: -1 loss: -706.24 acc: -1.00\n",
            "epoch 78 total_correct: -1 loss: -706.26 acc: -1.00\n",
            "epoch 79 total_correct: -1 loss: -706.26 acc: -1.00\n",
            "epoch 80 total_correct: -1 loss: -706.35 acc: -1.00\n",
            "epoch 81 total_correct: -1 loss: -706.28 acc: -1.00\n",
            "epoch 82 total_correct: -1 loss: -706.29 acc: -1.00\n",
            "epoch 83 total_correct: -1 loss: -706.30 acc: -1.00\n",
            "epoch 84 total_correct: -1 loss: -706.27 acc: -1.00\n",
            "epoch 85 total_correct: -1 loss: -706.33 acc: -1.00\n",
            "epoch 86 total_correct: -1 loss: -706.31 acc: -1.00\n",
            "epoch 87 total_correct: -1 loss: -706.30 acc: -1.00\n",
            "epoch 88 total_correct: -1 loss: -706.27 acc: -1.00\n",
            "epoch 89 total_correct: -1 loss: -706.25 acc: -1.00\n",
            "epoch 90 total_correct: -1 loss: -706.26 acc: -1.00\n",
            "epoch 91 total_correct: -1 loss: -706.31 acc: -1.00\n",
            "epoch 92 total_correct: -1 loss: -706.29 acc: -1.00\n",
            "epoch 93 total_correct: -1 loss: -706.33 acc: -1.00\n",
            "epoch 94 total_correct: -1 loss: -706.35 acc: -1.00\n",
            "epoch 95 total_correct: -1 loss: -706.29 acc: -1.00\n",
            "epoch 96 total_correct: -1 loss: -706.32 acc: -1.00\n",
            "epoch 97 total_correct: -1 loss: -706.31 acc: -1.00\n",
            "epoch 98 total_correct: -1 loss: -706.30 acc: -1.00\n",
            "epoch 99 total_correct: -1 loss: -706.27 acc: -1.00\n"
          ]
        }
      ],
      "metadata": {
        "colab": {
          "base_uri": "https://localhost:8080/"
        },
        "id": "HoJXiw_pB5xS",
        "outputId": "f6d2fd8c-633b-4f6f-841e-782c34a625ea"
      }
    },
    {
      "cell_type": "code",
      "execution_count": 19,
      "source": [
        "import matplotlib.pyplot as plt\n",
        "from torch import nn\n",
        "plt.plot(test_y[-1000:])\n",
        "plt.show()\n",
        "pred = net(test_x.to(device))\n",
        "plt.plot(pred.detach().cpu().numpy()[-1000:])\n",
        "\n",
        "#print(test_y.shape)\n",
        "#print(net(test_x).detach().numpy().shape)\n",
        "#print(net(test_x).detach().numpy()[-20:])\n",
        "#print(nn.BatchNorm1d(net.num_features+1)(nn.ReLU()(net.conv1d(test_x[-1:,]))))\n",
        "#import numpy as np\n",
        "#np.set_printoptions(threshold=10_000)\n",
        "#print(test_x[-1:,].shape)\n",
        "#print(test_x[-1:,:,0])\n",
        "#print(test_x[-1:,:,-1])\n",
        "#print(net.conv1d)\n",
        "#print(net.conv1d(test_x[-1:,]).shape)\n"
      ],
      "outputs": [
        {
          "output_type": "display_data",
          "data": {
            "image/png": "[encoded data removed]",
            "text/plain": [
              "<Figure size 432x288 with 1 Axes>"
            ]
          },
          "metadata": {
            "needs_background": "light"
          }
        },
        {
          "output_type": "execute_result",
          "data": {
            "text/plain": [
              "[<matplotlib.lines.Line2D at 0x7ff525881950>]"
            ]
          },
          "metadata": {},
          "execution_count": 19
        },
        {
          "output_type": "display_data",
          "data": {
            "image/png": "[encoded data removed]",
            "text/plain": [
              "<Figure size 432x288 with 1 Axes>"
            ]
          },
          "metadata": {
            "needs_background": "light"
          }
        }
      ],
      "metadata": {
        "colab": {
          "base_uri": "https://localhost:8080/",
          "height": 531
        },
        "id": "0gLFmk4RB5xU",
        "outputId": "bf007388-607e-4559-fd83-0c89bfa06a9c"
      }
    },
    {
      "cell_type": "code",
      "source": [
        "import torch\n",
        "from torch import optim, nn\n",
        "from Models.neural import STDConvModel\n",
        "model = STDConvModel(3*5*24, 7, 12,stride1=2,stride2=2)\n",
        "\n",
        "device = torch.device('cuda:0' if torch.cuda.is_available() else 'cpu')\n",
        "net = model.to(device)\n",
        "criterion = nn.MSELoss()\n",
        "optimiser = optim.Adam(net.parameters())"
      ],
      "metadata": {
        "id": "Fwpmfng4hJnb"
      },
      "execution_count": 20,
      "outputs": []
    },
    {
      "cell_type": "code",
      "source": [
        "print(\"Start training...\")\n",
        "for epoch in range(0,100):\n",
        "    total_loss = 0\n",
        "    total_timeframes = 0\n",
        "    #total_correct = 0\n",
        "    i = 0\n",
        "    for batch in trainloader:           # Load batch\n",
        "        batch_x, batch_y = batch \n",
        "        batch_x = batch_x.to(device)\n",
        "        batch_y = batch_y.to(device)\n",
        "        #print([x.get_device() for x in net.parameters()])\n",
        "        #print(next(net.parameters()).is_cuda)\n",
        "        #print(batch_x.get_device())\n",
        "        preds = net(batch_x)             # Process batch\n",
        "        loss = criterion(preds, batch_y) # Calculate loss\n",
        "        i += 1\n",
        "        optimiser.zero_grad()\n",
        "        loss.backward()                 # Calculate gradients\n",
        "        optimiser.step()                # Update weights\n",
        "\n",
        "        output = preds.argmax(dim=1)\n",
        "\n",
        "        total_loss += loss.item()\n",
        "        total_timeframes += batch_y.size(0)\n",
        "\n",
        "    print('epoch {0} total_correct: {1} loss: {2:.2f} acc: {3:.2f}'.format(\n",
        "                epoch,-1, total_loss, -1) )"
      ],
      "metadata": {
        "colab": {
          "base_uri": "https://localhost:8080/"
        },
        "id": "FwF3NI-FhTB0",
        "outputId": "9676fca5-442d-49a1-b078-0922f0fae84b"
      },
      "execution_count": 21,
      "outputs": [
        {
          "output_type": "stream",
          "name": "stdout",
          "text": [
            "Start training...\n",
            "epoch 0 total_correct: -1 loss: 4.93 acc: -1.00\n",
            "epoch 1 total_correct: -1 loss: 1.64 acc: -1.00\n",
            "epoch 2 total_correct: -1 loss: 1.44 acc: -1.00\n",
            "epoch 3 total_correct: -1 loss: 1.35 acc: -1.00\n",
            "epoch 4 total_correct: -1 loss: 1.27 acc: -1.00\n",
            "epoch 5 total_correct: -1 loss: 1.24 acc: -1.00\n",
            "epoch 6 total_correct: -1 loss: 1.15 acc: -1.00\n",
            "epoch 7 total_correct: -1 loss: 1.15 acc: -1.00\n",
            "epoch 8 total_correct: -1 loss: 1.10 acc: -1.00\n",
            "epoch 9 total_correct: -1 loss: 1.07 acc: -1.00\n",
            "epoch 10 total_correct: -1 loss: 1.02 acc: -1.00\n",
            "epoch 11 total_correct: -1 loss: 1.05 acc: -1.00\n",
            "epoch 12 total_correct: -1 loss: 1.03 acc: -1.00\n",
            "epoch 13 total_correct: -1 loss: 1.02 acc: -1.00\n",
            "epoch 14 total_correct: -1 loss: 1.00 acc: -1.00\n",
            "epoch 15 total_correct: -1 loss: 0.97 acc: -1.00\n",
            "epoch 16 total_correct: -1 loss: 0.94 acc: -1.00\n",
            "epoch 17 total_correct: -1 loss: 0.93 acc: -1.00\n",
            "epoch 18 total_correct: -1 loss: 0.91 acc: -1.00\n",
            "epoch 19 total_correct: -1 loss: 0.93 acc: -1.00\n",
            "epoch 20 total_correct: -1 loss: 0.91 acc: -1.00\n",
            "epoch 21 total_correct: -1 loss: 0.93 acc: -1.00\n",
            "epoch 22 total_correct: -1 loss: 0.84 acc: -1.00\n",
            "epoch 23 total_correct: -1 loss: 0.87 acc: -1.00\n",
            "epoch 24 total_correct: -1 loss: 0.87 acc: -1.00\n",
            "epoch 25 total_correct: -1 loss: 0.86 acc: -1.00\n",
            "epoch 26 total_correct: -1 loss: 0.86 acc: -1.00\n",
            "epoch 27 total_correct: -1 loss: 0.85 acc: -1.00\n",
            "epoch 28 total_correct: -1 loss: 0.81 acc: -1.00\n",
            "epoch 29 total_correct: -1 loss: 0.82 acc: -1.00\n",
            "epoch 30 total_correct: -1 loss: 0.83 acc: -1.00\n",
            "epoch 31 total_correct: -1 loss: 0.81 acc: -1.00\n",
            "epoch 32 total_correct: -1 loss: 0.81 acc: -1.00\n",
            "epoch 33 total_correct: -1 loss: 0.77 acc: -1.00\n",
            "epoch 34 total_correct: -1 loss: 0.79 acc: -1.00\n",
            "epoch 35 total_correct: -1 loss: 0.77 acc: -1.00\n",
            "epoch 36 total_correct: -1 loss: 0.80 acc: -1.00\n",
            "epoch 37 total_correct: -1 loss: 0.81 acc: -1.00\n",
            "epoch 38 total_correct: -1 loss: 0.77 acc: -1.00\n",
            "epoch 39 total_correct: -1 loss: 0.76 acc: -1.00\n",
            "epoch 40 total_correct: -1 loss: 0.75 acc: -1.00\n",
            "epoch 41 total_correct: -1 loss: 0.74 acc: -1.00\n",
            "epoch 42 total_correct: -1 loss: 0.74 acc: -1.00\n",
            "epoch 43 total_correct: -1 loss: 0.77 acc: -1.00\n",
            "epoch 44 total_correct: -1 loss: 0.75 acc: -1.00\n",
            "epoch 45 total_correct: -1 loss: 0.75 acc: -1.00\n",
            "epoch 46 total_correct: -1 loss: 0.76 acc: -1.00\n",
            "epoch 47 total_correct: -1 loss: 0.74 acc: -1.00\n",
            "epoch 48 total_correct: -1 loss: 0.75 acc: -1.00\n",
            "epoch 49 total_correct: -1 loss: 0.75 acc: -1.00\n",
            "epoch 50 total_correct: -1 loss: 0.73 acc: -1.00\n",
            "epoch 51 total_correct: -1 loss: 0.75 acc: -1.00\n",
            "epoch 52 total_correct: -1 loss: 0.74 acc: -1.00\n",
            "epoch 53 total_correct: -1 loss: 0.72 acc: -1.00\n",
            "epoch 54 total_correct: -1 loss: 0.74 acc: -1.00\n",
            "epoch 55 total_correct: -1 loss: 0.73 acc: -1.00\n",
            "epoch 56 total_correct: -1 loss: 0.76 acc: -1.00\n",
            "epoch 57 total_correct: -1 loss: 0.70 acc: -1.00\n",
            "epoch 58 total_correct: -1 loss: 0.70 acc: -1.00\n",
            "epoch 59 total_correct: -1 loss: 0.70 acc: -1.00\n",
            "epoch 60 total_correct: -1 loss: 0.72 acc: -1.00\n",
            "epoch 61 total_correct: -1 loss: 0.69 acc: -1.00\n",
            "epoch 62 total_correct: -1 loss: 0.73 acc: -1.00\n",
            "epoch 63 total_correct: -1 loss: 0.69 acc: -1.00\n",
            "epoch 64 total_correct: -1 loss: 0.68 acc: -1.00\n",
            "epoch 65 total_correct: -1 loss: 0.68 acc: -1.00\n",
            "epoch 66 total_correct: -1 loss: 0.69 acc: -1.00\n",
            "epoch 67 total_correct: -1 loss: 0.69 acc: -1.00\n",
            "epoch 68 total_correct: -1 loss: 0.68 acc: -1.00\n",
            "epoch 69 total_correct: -1 loss: 0.66 acc: -1.00\n",
            "epoch 70 total_correct: -1 loss: 0.68 acc: -1.00\n",
            "epoch 71 total_correct: -1 loss: 0.69 acc: -1.00\n",
            "epoch 72 total_correct: -1 loss: 0.69 acc: -1.00\n",
            "epoch 73 total_correct: -1 loss: 0.65 acc: -1.00\n",
            "epoch 74 total_correct: -1 loss: 0.70 acc: -1.00\n",
            "epoch 75 total_correct: -1 loss: 0.67 acc: -1.00\n",
            "epoch 76 total_correct: -1 loss: 0.67 acc: -1.00\n",
            "epoch 77 total_correct: -1 loss: 0.63 acc: -1.00\n",
            "epoch 78 total_correct: -1 loss: 0.67 acc: -1.00\n",
            "epoch 79 total_correct: -1 loss: 0.65 acc: -1.00\n",
            "epoch 80 total_correct: -1 loss: 0.67 acc: -1.00\n",
            "epoch 81 total_correct: -1 loss: 0.66 acc: -1.00\n",
            "epoch 82 total_correct: -1 loss: 0.67 acc: -1.00\n",
            "epoch 83 total_correct: -1 loss: 0.64 acc: -1.00\n",
            "epoch 84 total_correct: -1 loss: 0.67 acc: -1.00\n",
            "epoch 85 total_correct: -1 loss: 0.65 acc: -1.00\n",
            "epoch 86 total_correct: -1 loss: 0.64 acc: -1.00\n",
            "epoch 87 total_correct: -1 loss: 0.65 acc: -1.00\n",
            "epoch 88 total_correct: -1 loss: 0.66 acc: -1.00\n",
            "epoch 89 total_correct: -1 loss: 0.64 acc: -1.00\n",
            "epoch 90 total_correct: -1 loss: 0.64 acc: -1.00\n",
            "epoch 91 total_correct: -1 loss: 0.67 acc: -1.00\n",
            "epoch 92 total_correct: -1 loss: 0.66 acc: -1.00\n",
            "epoch 93 total_correct: -1 loss: 0.64 acc: -1.00\n",
            "epoch 94 total_correct: -1 loss: 0.62 acc: -1.00\n",
            "epoch 95 total_correct: -1 loss: 0.65 acc: -1.00\n",
            "epoch 96 total_correct: -1 loss: 0.65 acc: -1.00\n",
            "epoch 97 total_correct: -1 loss: 0.61 acc: -1.00\n",
            "epoch 98 total_correct: -1 loss: 0.63 acc: -1.00\n",
            "epoch 99 total_correct: -1 loss: 0.66 acc: -1.00\n"
          ]
        }
      ]
    },
    {
      "cell_type": "code",
      "source": [
        "import matplotlib.pyplot as plt\n",
        "from torch import nn\n",
        "fig, ax = plt.subplots()\n",
        "ax.plot(test_y[-1000:],label='target')\n",
        "#plt.show()\n",
        "pred = net(test_x.to(device))\n",
        "ax.plot(pred.detach().cpu().numpy()[-1000:],label='Predict')\n",
        "ax.legend()\n"
      ],
      "metadata": {
        "colab": {
          "base_uri": "https://localhost:8080/",
          "height": 284
        },
        "id": "ReYyaxk7kGxy",
        "outputId": "ad64f8d0-3e08-4200-c66d-5857cbb6f4d3"
      },
      "execution_count": 26,
      "outputs": [
        {
          "output_type": "execute_result",
          "data": {
            "text/plain": [
              "<matplotlib.legend.Legend at 0x7ff5254792d0>"
            ]
          },
          "metadata": {},
          "execution_count": 26
        },
        {
          "output_type": "display_data",
          "data": {
            "image/png": "[encoded data removed]",
            "text/plain": [
              "<Figure size 432x288 with 1 Axes>"
            ]
          },
          "metadata": {
            "needs_background": "light"
          }
        }
      ]
    },
    {
      "cell_type": "code",
      "source": [
        "import torch\n",
        "from torch import optim, nn\n",
        "from Models.neural import STDConvModel\n",
        "model = STDConvModel(3*5*24, 7, 12,stride1=2,stride2=2)\n",
        "\n",
        "device = torch.device('cuda:0' if torch.cuda.is_available() else 'cpu')\n",
        "net = model.to(device)\n",
        "criterion = nn.BCELoss()\n",
        "optimiser = optim.Adam(net.parameters())"
      ],
      "metadata": {
        "id": "C7Zj4B7_lD2j"
      },
      "execution_count": 30,
      "outputs": []
    },
    {
      "cell_type": "code",
      "source": [
        "print(\"Start training...\")\n",
        "for epoch in range(0,100):\n",
        "    total_loss = 0\n",
        "    total_timeframes = 0\n",
        "    #total_correct = 0\n",
        "    i = 0\n",
        "    for batch in trainloader:           # Load batch\n",
        "        batch_x, batch_y = batch \n",
        "        batch_x = batch_x.to(device)\n",
        "        batch_y = batch_y.to(device)\n",
        "        #print([x.get_device() for x in net.parameters()])\n",
        "        #print(next(net.parameters()).is_cuda)\n",
        "        #print(batch_x.get_device())\n",
        "        preds = net(batch_x)             # Process batch\n",
        "        loss = criterion(preds, batch_y) # Calculate loss\n",
        "        i += 1\n",
        "        optimiser.zero_grad()\n",
        "        loss.backward()                 # Calculate gradients\n",
        "        optimiser.step()                # Update weights\n",
        "\n",
        "        output = preds.argmax(dim=1)\n",
        "\n",
        "        total_loss += loss.item()\n",
        "        total_timeframes += batch_y.size(0)\n",
        "\n",
        "    print('epoch {0} total_correct: {1} loss: {2:.2f} acc: {3:.2f}'.format(\n",
        "                epoch,-1, total_loss, -1) )"
      ],
      "metadata": {
        "colab": {
          "base_uri": "https://localhost:8080/"
        },
        "id": "h709lddylJy3",
        "outputId": "2345f70a-4213-4c28-9b23-31901330a1ba"
      },
      "execution_count": 31,
      "outputs": [
        {
          "output_type": "stream",
          "name": "stdout",
          "text": [
            "Start training...\n",
            "epoch 0 total_correct: -1 loss: 735.84 acc: -1.00\n",
            "epoch 1 total_correct: -1 loss: 726.45 acc: -1.00\n",
            "epoch 2 total_correct: -1 loss: 725.54 acc: -1.00\n",
            "epoch 3 total_correct: -1 loss: 725.02 acc: -1.00\n",
            "epoch 4 total_correct: -1 loss: 724.90 acc: -1.00\n",
            "epoch 5 total_correct: -1 loss: 724.75 acc: -1.00\n",
            "epoch 6 total_correct: -1 loss: 724.52 acc: -1.00\n",
            "epoch 7 total_correct: -1 loss: 724.51 acc: -1.00\n",
            "epoch 8 total_correct: -1 loss: 724.34 acc: -1.00\n",
            "epoch 9 total_correct: -1 loss: 724.09 acc: -1.00\n",
            "epoch 10 total_correct: -1 loss: 724.08 acc: -1.00\n",
            "epoch 11 total_correct: -1 loss: 724.05 acc: -1.00\n",
            "epoch 12 total_correct: -1 loss: 723.98 acc: -1.00\n",
            "epoch 13 total_correct: -1 loss: 723.88 acc: -1.00\n",
            "epoch 14 total_correct: -1 loss: 723.78 acc: -1.00\n",
            "epoch 15 total_correct: -1 loss: 723.75 acc: -1.00\n",
            "epoch 16 total_correct: -1 loss: 723.65 acc: -1.00\n",
            "epoch 17 total_correct: -1 loss: 723.63 acc: -1.00\n",
            "epoch 18 total_correct: -1 loss: 723.55 acc: -1.00\n",
            "epoch 19 total_correct: -1 loss: 723.53 acc: -1.00\n",
            "epoch 20 total_correct: -1 loss: 723.64 acc: -1.00\n",
            "epoch 21 total_correct: -1 loss: 723.49 acc: -1.00\n",
            "epoch 22 total_correct: -1 loss: 723.53 acc: -1.00\n",
            "epoch 23 total_correct: -1 loss: 723.42 acc: -1.00\n",
            "epoch 24 total_correct: -1 loss: 723.50 acc: -1.00\n",
            "epoch 25 total_correct: -1 loss: 723.47 acc: -1.00\n",
            "epoch 26 total_correct: -1 loss: 723.18 acc: -1.00\n",
            "epoch 27 total_correct: -1 loss: 723.18 acc: -1.00\n",
            "epoch 28 total_correct: -1 loss: 723.20 acc: -1.00\n",
            "epoch 29 total_correct: -1 loss: 723.18 acc: -1.00\n",
            "epoch 30 total_correct: -1 loss: 723.17 acc: -1.00\n",
            "epoch 31 total_correct: -1 loss: 723.21 acc: -1.00\n",
            "epoch 32 total_correct: -1 loss: 723.16 acc: -1.00\n",
            "epoch 33 total_correct: -1 loss: 723.15 acc: -1.00\n",
            "epoch 34 total_correct: -1 loss: 723.12 acc: -1.00\n",
            "epoch 35 total_correct: -1 loss: 723.18 acc: -1.00\n",
            "epoch 36 total_correct: -1 loss: 723.12 acc: -1.00\n",
            "epoch 37 total_correct: -1 loss: 723.04 acc: -1.00\n",
            "epoch 38 total_correct: -1 loss: 723.05 acc: -1.00\n",
            "epoch 39 total_correct: -1 loss: 722.89 acc: -1.00\n",
            "epoch 40 total_correct: -1 loss: 723.08 acc: -1.00\n",
            "epoch 41 total_correct: -1 loss: 723.13 acc: -1.00\n",
            "epoch 42 total_correct: -1 loss: 723.01 acc: -1.00\n",
            "epoch 43 total_correct: -1 loss: 722.94 acc: -1.00\n",
            "epoch 44 total_correct: -1 loss: 723.03 acc: -1.00\n",
            "epoch 45 total_correct: -1 loss: 722.98 acc: -1.00\n",
            "epoch 46 total_correct: -1 loss: 722.88 acc: -1.00\n",
            "epoch 47 total_correct: -1 loss: 722.94 acc: -1.00\n",
            "epoch 48 total_correct: -1 loss: 722.93 acc: -1.00\n",
            "epoch 49 total_correct: -1 loss: 722.81 acc: -1.00\n",
            "epoch 50 total_correct: -1 loss: 722.85 acc: -1.00\n",
            "epoch 51 total_correct: -1 loss: 722.91 acc: -1.00\n",
            "epoch 52 total_correct: -1 loss: 722.87 acc: -1.00\n",
            "epoch 53 total_correct: -1 loss: 722.84 acc: -1.00\n",
            "epoch 54 total_correct: -1 loss: 722.82 acc: -1.00\n",
            "epoch 55 total_correct: -1 loss: 722.90 acc: -1.00\n",
            "epoch 56 total_correct: -1 loss: 722.87 acc: -1.00\n",
            "epoch 57 total_correct: -1 loss: 722.84 acc: -1.00\n",
            "epoch 58 total_correct: -1 loss: 722.68 acc: -1.00\n",
            "epoch 59 total_correct: -1 loss: 722.70 acc: -1.00\n",
            "epoch 60 total_correct: -1 loss: 722.77 acc: -1.00\n",
            "epoch 61 total_correct: -1 loss: 722.67 acc: -1.00\n",
            "epoch 62 total_correct: -1 loss: 722.77 acc: -1.00\n",
            "epoch 63 total_correct: -1 loss: 722.73 acc: -1.00\n",
            "epoch 64 total_correct: -1 loss: 722.70 acc: -1.00\n",
            "epoch 65 total_correct: -1 loss: 722.63 acc: -1.00\n",
            "epoch 66 total_correct: -1 loss: 722.70 acc: -1.00\n",
            "epoch 67 total_correct: -1 loss: 722.59 acc: -1.00\n",
            "epoch 68 total_correct: -1 loss: 722.64 acc: -1.00\n",
            "epoch 69 total_correct: -1 loss: 722.58 acc: -1.00\n",
            "epoch 70 total_correct: -1 loss: 722.57 acc: -1.00\n",
            "epoch 71 total_correct: -1 loss: 722.65 acc: -1.00\n",
            "epoch 72 total_correct: -1 loss: 722.58 acc: -1.00\n",
            "epoch 73 total_correct: -1 loss: 722.61 acc: -1.00\n",
            "epoch 74 total_correct: -1 loss: 722.62 acc: -1.00\n",
            "epoch 75 total_correct: -1 loss: 722.58 acc: -1.00\n",
            "epoch 76 total_correct: -1 loss: 722.56 acc: -1.00\n",
            "epoch 77 total_correct: -1 loss: 722.57 acc: -1.00\n",
            "epoch 78 total_correct: -1 loss: 722.44 acc: -1.00\n",
            "epoch 79 total_correct: -1 loss: 722.55 acc: -1.00\n",
            "epoch 80 total_correct: -1 loss: 722.59 acc: -1.00\n",
            "epoch 81 total_correct: -1 loss: 722.58 acc: -1.00\n",
            "epoch 82 total_correct: -1 loss: 722.48 acc: -1.00\n",
            "epoch 83 total_correct: -1 loss: 722.53 acc: -1.00\n",
            "epoch 84 total_correct: -1 loss: 722.39 acc: -1.00\n",
            "epoch 85 total_correct: -1 loss: 722.46 acc: -1.00\n",
            "epoch 86 total_correct: -1 loss: 722.45 acc: -1.00\n",
            "epoch 87 total_correct: -1 loss: 722.52 acc: -1.00\n",
            "epoch 88 total_correct: -1 loss: 722.50 acc: -1.00\n",
            "epoch 89 total_correct: -1 loss: 722.38 acc: -1.00\n",
            "epoch 90 total_correct: -1 loss: 722.45 acc: -1.00\n",
            "epoch 91 total_correct: -1 loss: 722.42 acc: -1.00\n",
            "epoch 92 total_correct: -1 loss: 722.38 acc: -1.00\n",
            "epoch 93 total_correct: -1 loss: 722.33 acc: -1.00\n",
            "epoch 94 total_correct: -1 loss: 722.37 acc: -1.00\n",
            "epoch 95 total_correct: -1 loss: 722.35 acc: -1.00\n",
            "epoch 96 total_correct: -1 loss: 722.45 acc: -1.00\n",
            "epoch 97 total_correct: -1 loss: 722.40 acc: -1.00\n",
            "epoch 98 total_correct: -1 loss: 722.36 acc: -1.00\n",
            "epoch 99 total_correct: -1 loss: 722.44 acc: -1.00\n"
          ]
        }
      ]
    },
    {
      "cell_type": "code",
      "source": [
        "import matplotlib.pyplot as plt\n",
        "from torch import nn\n",
        "fig, ax = plt.subplots()\n",
        "ax.plot(test_y[-1000:],label='target')\n",
        "#plt.show()\n",
        "pred = net(test_x.to(device))\n",
        "ax.plot(pred.detach().cpu().numpy()[-1000:],label='Predict')\n",
        "ax.legend()\n"
      ],
      "metadata": {
        "colab": {
          "base_uri": "https://localhost:8080/",
          "height": 284
        },
        "id": "RLoyWaxvoS0i",
        "outputId": "ee698af1-6460-4dd2-cbf3-56b8868e548f"
      },
      "execution_count": 34,
      "outputs": [
        {
          "output_type": "execute_result",
          "data": {
            "text/plain": [
              "<matplotlib.legend.Legend at 0x7ff52524dfd0>"
            ]
          },
          "metadata": {},
          "execution_count": 34
        },
        {
          "output_type": "display_data",
          "data": {
            "image/png": "[encoded data removed]",
            "text/plain": [
              "<Figure size 432x288 with 1 Axes>"
            ]
          },
          "metadata": {
            "needs_background": "light"
          }
        }
      ]
    }
  ],
  "metadata": {
    "orig_nbformat": 4,
    "language_info": {
      "name": "python",
      "version": "3.9.7",
      "mimetype": "text/x-python",
      "codemirror_mode": {
        "name": "ipython",
        "version": 3
      },
      "pygments_lexer": "ipython3",
      "nbconvert_exporter": "python",
      "file_extension": ".py"
    },
    "kernelspec": {
      "name": "python3",
      "display_name": "Python 3.9.7 64-bit ('qttrade': conda)"
    },
    "interpreter": {
      "hash": "a67e17c8fc420817cbdbd0caa16d6c1c40b59f1d67d5d3254ca561366ced5b2e"
    },
    "colab": {
      "name": "nnstruct.ipynb",
      "provenance": [],
      "collapsed_sections": []
    },
    "accelerator": "GPU"
  },
  "nbformat": 4,
  "nbformat_minor": 0
}