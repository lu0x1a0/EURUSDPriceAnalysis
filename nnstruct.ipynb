{
 "cells": [
  {
   "cell_type": "code",
   "execution_count": 6,
   "source": [
    "from DataManipulation.DataHandler import getOHLC_pickle\n",
    "data = getOHLC_pickle(\"EURUSD_M_2010_2021.pkl\")\n",
    "data = data.resample('1H').agg({'Open': 'first', \n",
    "                        'High': 'max', \n",
    "                        'Low': 'min', \n",
    "                        'Close': 'last'}).dropna()"
   ],
   "outputs": [],
   "metadata": {}
  },
  {
   "cell_type": "code",
   "execution_count": null,
   "source": [
    "#generates the indicators\n",
    "from DataManipulation.indicators import DEMA, D1, MaxMinRollNorm\n",
    "demaperiod = [9]\n",
    "for p in demaperiod:\n",
    "    data['dema'+str(p)] = DEMA(data['Close'],p)\n",
    "    data['D1dema'+str(p)] = D1(data['dema'+str(p)])\n",
    "#    data['normD1dema'+str(p)] = MaxMinRollNorm(data['D1dema'+str(p)], 24*250) # 250 approximated larger than all trading days in a year\n",
    "\n",
    "stdperiod = [9,100,300]\n",
    "for p in stdperiod:\n",
    "    data['std'+str(p)+\"dema9\"]\n"
   ],
   "outputs": [],
   "metadata": {}
  },
  {
   "cell_type": "code",
   "execution_count": 3,
   "source": [
    "import torch\n",
    "from Models.neural import STDConvModel\n",
    "m1 = STDConvModel(5*24, 2, 12,stride1=2,stride2=2)\n",
    "m2 = STDConvModel(5*24, 2, 12,stride1=1,stride2=1)\n",
    "from torchinfo import summary\n",
    "print(m1(torch.zeros((20,2,5*24))).shape)\n",
    "#print(summary(m1,(20,2,5*24)))\n",
    "#print(summary(m2,(20,2,5*24)))"
   ],
   "outputs": [
    {
     "output_type": "stream",
     "name": "stdout",
     "text": [
      "torch.Size([20, 1])\n"
     ]
    }
   ],
   "metadata": {}
  }
 ],
 "metadata": {
  "orig_nbformat": 4,
  "language_info": {
   "name": "python",
   "version": "3.9.7",
   "mimetype": "text/x-python",
   "codemirror_mode": {
    "name": "ipython",
    "version": 3
   },
   "pygments_lexer": "ipython3",
   "nbconvert_exporter": "python",
   "file_extension": ".py"
  },
  "kernelspec": {
   "name": "python3",
   "display_name": "Python 3.9.7 64-bit ('qttrade': conda)"
  },
  "interpreter": {
   "hash": "a67e17c8fc420817cbdbd0caa16d6c1c40b59f1d67d5d3254ca561366ced5b2e"
  }
 },
 "nbformat": 4,
 "nbformat_minor": 2
}