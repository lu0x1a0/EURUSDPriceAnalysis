{
 "cells": [
  {
   "cell_type": "code",
   "execution_count": 2,
   "source": [
    "import numpy as np\n",
    "import pandas as pd\n",
    "df = pd.Series([1,2,3,4,5,6,7,8,9,10,1,2,3,4,5,6,7,8,9,10])\n",
    "print(df/(df.rolling(5).max()-df.rolling(5).min()),(df.rolling(5).max()-df.rolling(5).min()) )"
   ],
   "outputs": [
    {
     "output_type": "stream",
     "name": "stdout",
     "text": [
      "0          NaN\n",
      "1          NaN\n",
      "2          NaN\n",
      "3          NaN\n",
      "4     1.250000\n",
      "5     1.500000\n",
      "6     1.750000\n",
      "7     2.000000\n",
      "8     2.250000\n",
      "9     2.500000\n",
      "10    0.111111\n",
      "11    0.222222\n",
      "12    0.333333\n",
      "13    0.444444\n",
      "14    1.250000\n",
      "15    1.500000\n",
      "16    1.750000\n",
      "17    2.000000\n",
      "18    2.250000\n",
      "19    2.500000\n",
      "dtype: float64 0     NaN\n",
      "1     NaN\n",
      "2     NaN\n",
      "3     NaN\n",
      "4     4.0\n",
      "5     4.0\n",
      "6     4.0\n",
      "7     4.0\n",
      "8     4.0\n",
      "9     4.0\n",
      "10    9.0\n",
      "11    9.0\n",
      "12    9.0\n",
      "13    9.0\n",
      "14    4.0\n",
      "15    4.0\n",
      "16    4.0\n",
      "17    4.0\n",
      "18    4.0\n",
      "19    4.0\n",
      "dtype: float64\n"
     ]
    }
   ],
   "metadata": {}
  }
 ],
 "metadata": {
  "orig_nbformat": 4,
  "language_info": {
   "name": "python",
   "version": "3.9.7",
   "mimetype": "text/x-python",
   "codemirror_mode": {
    "name": "ipython",
    "version": 3
   },
   "pygments_lexer": "ipython3",
   "nbconvert_exporter": "python",
   "file_extension": ".py"
  },
  "kernelspec": {
   "name": "python3",
   "display_name": "Python 3.9.7 64-bit ('qttrade': conda)"
  },
  "interpreter": {
   "hash": "a67e17c8fc420817cbdbd0caa16d6c1c40b59f1d67d5d3254ca561366ced5b2e"
  }
 },
 "nbformat": 4,
 "nbformat_minor": 2
}