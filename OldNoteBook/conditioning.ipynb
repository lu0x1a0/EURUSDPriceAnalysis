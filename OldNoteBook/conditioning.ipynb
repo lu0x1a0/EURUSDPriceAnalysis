{
 "cells": [
  {
   "cell_type": "code",
   "execution_count": 1,
   "source": [
    "from DataManipulation.DataHandler import  mergeMonths, DemaMinDayMultinom\n",
    "\n",
    "import pandas as pd\n",
    "from torch.utils.data import ConcatDataset\n",
    "#data = mergePeriod(1,4,beg=\"DAT_ASCII_EURUSD_M1_2021\",dir=\"./eurusd2021/\",dump=False)\n",
    "data2021 = mergeMonths(start=1, end=9,beg=\"DAT_ASCII_EURUSD_M1_2021\",dir = './Data/eurusd2021/', dump=False)\n",
    "\n",
    "dir = \"./Data/\"\n",
    "beg = \"DAT_ASCII_EURUSD_M1_\"\n",
    "\n",
    "years = range(2010,2021)\n",
    "dataY = []\n",
    "for y in years:\n",
    "    dataY.append(pd.read_csv(dir+beg+str(y)+'.csv',sep=';',names = ['Open','High','Low','Close','Volume']))\n",
    "dataY.append(data2021)\n",
    "data = pd.concat(dataY)\n",
    "data.index.name = \"Date\"\n",
    "data.index = pd.to_datetime(data.index)"
   ],
   "outputs": [],
   "metadata": {}
  },
  {
   "cell_type": "code",
   "execution_count": 4,
   "source": [
    "len(data)"
   ],
   "outputs": [
    {
     "output_type": "execute_result",
     "data": {
      "text/plain": [
       "4330453"
      ]
     },
     "metadata": {},
     "execution_count": 4
    }
   ],
   "metadata": {}
  },
  {
   "cell_type": "code",
   "execution_count": null,
   "source": [
    "from time import time\n",
    "t = time()\n",
    "dmc = data.copy()\n",
    "print(\"COPY TIME:\", time()-t)\n",
    "\n",
    "emaperiods = [60*2,60*3,60*5,60*7,60*24*100,60*24*200]\n",
    "datamset = DemaMinDayMultinom(dmc,emaperiods = emaperiods)\n",
    "print([x.__name__ for x in datamset.indicators])\n",
    "predictorNames = datamset.periodDiffNames\n",
    "ResponseName = \"_y_enter_exit\""
   ],
   "outputs": [
    {
     "output_type": "stream",
     "name": "stdout",
     "text": [
      "COPY TIME: 0.11122488975524902\n",
      "9.818594694137573\n",
      "14.39111876487732\n",
      "0.7818331718444824\n",
      "['dema9', 'ema120', 'ema180', 'ema300', 'ema420', 'ema144000', 'ema288000']\n"
     ]
    }
   ],
   "metadata": {}
  },
  {
   "cell_type": "code",
   "execution_count": 2,
   "source": [
    "dataH = data.resample('1H').agg({'Open': 'first', \n",
    "                        'High': 'max', \n",
    "                        'Low': 'min', \n",
    "                        'Close': 'last'}).dropna()\n",
    "print(len(dataH),len(data))\n",
    "from time import time\n",
    "t = time()\n",
    "dHc = dataH.copy()\n",
    "print(\"COPY TIME:\", time()-t)\n",
    "emaperiods = [100,200,300,24*100,24*200]\n",
    "dataHset = DemaMinDayMultinom(dHc,emaperiods = emaperiods)"
   ],
   "outputs": [
    {
     "output_type": "stream",
     "name": "stdout",
     "text": [
      "73065 4330453\n",
      "COPY TIME: 0.006810903549194336\n",
      "3.620333194732666\n",
      "0.06895208358764648\n",
      "0.964195966720581\n"
     ]
    }
   ],
   "metadata": {}
  },
  {
   "cell_type": "code",
   "execution_count": 12,
   "source": [
    "dataHset.raw['_y_enter_exit'] = dataHset.raw['_y_enter_exit'].to_numpy().astype('int8')\n",
    "print(dataHset.raw['_y_enter_exit'].to_numpy().dtype)\n",
    "print(dataHset.raw['_y_enter_exit'].to_numpy().dtype == 'int8')"
   ],
   "outputs": [
    {
     "output_type": "stream",
     "name": "stdout",
     "text": [
      "int8\n",
      "True\n"
     ]
    }
   ],
   "metadata": {}
  },
  {
   "cell_type": "code",
   "execution_count": 20,
   "source": [
    "import pandas as pd\n",
    "import numpy as np\n",
    "def D1(TS):\n",
    "    if isinstance(TS,pd.Series):\n",
    "        D1 = np.zeros(len(TS))\n",
    "        D1[0] = np.nan\n",
    "        D1[1:] = TS[1:].to_numpy()-TS[:-1].to_numpy()\n",
    "        D1 = pd.Series(D1,index = TS.index)\n",
    "    elif isinstance(TS,np.ndarray):\n",
    "        D1 = np.zeros(len(TS))\n",
    "        D1[0] = np.nan\n",
    "        D1[1:] = TS[1:]-TS[:-1]\n",
    "    return D1\n",
    "def D2(TS):\n",
    "    if isinstance(TS,pd.Series):\n",
    "        D2 = np.zeros(len(TS))\n",
    "        npTS = TS.to_numpy()\n",
    "        D2[:2] = np.nan\n",
    "        D2[2:] = npTS[2:]-2*npTS[1:-1]+npTS[:-2]\n",
    "        D2 = pd.Series(D2,index = TS.index)\n",
    "    elif isinstance(TS,np.ndarray):\n",
    "        D2 = np.zeros(len(TS))\n",
    "        D2[:2] = np.nan\n",
    "        D2[2:] = TS[2:]-2*TS[1:-1]+TS[:-2]\n",
    "    return D2"
   ],
   "outputs": [],
   "metadata": {}
  },
  {
   "cell_type": "code",
   "execution_count": 4,
   "source": [
    "dataHset.raw.columns"
   ],
   "outputs": [
    {
     "output_type": "execute_result",
     "data": {
      "text/plain": [
       "Index(['Open', 'High', 'Low', 'Close', 'dema9', 'dema9D1', 'dema9D2', 'ema100',\n",
       "       'ema100D1', 'ema100D2', 'ema200', 'ema200D1', 'ema200D2', 'ema300',\n",
       "       'ema300D1', 'ema300D2', 'ema2400', 'ema2400D1', 'ema2400D2', 'ema4800',\n",
       "       'ema4800D1', 'ema4800D2', 'Close_dema9', 'dema9_ema100',\n",
       "       'dema9D1_ema100D1', 'dema9D2_ema100D2', 'ema100_ema200',\n",
       "       'ema100D1_ema200D1', 'ema100D2_ema200D2', 'ema200_ema300',\n",
       "       'ema200D1_ema300D1', 'ema200D2_ema300D2', 'ema300_ema2400',\n",
       "       'ema300D1_ema2400D1', 'ema300D2_ema2400D2', 'ema2400_ema4800',\n",
       "       'ema2400D1_ema4800D1', 'ema2400D2_ema4800D2', '_y_enter_exit'],\n",
       "      dtype='object')"
      ]
     },
     "metadata": {},
     "execution_count": 4
    }
   ],
   "metadata": {}
  },
  {
   "cell_type": "code",
   "execution_count": 21,
   "source": [
    "from time import time\n",
    "import pandas as pd\n",
    "t = time()\n",
    "ema100D2_raw = D2(dataHset.raw['ema100'].to_numpy())\n",
    "ema100D2_ = pd.Series(ema100D2_raw, index = dataHset.raw.index)\n",
    "print(time()-t)\n",
    "\n",
    "t = time()\n",
    "ema100D2_pd = dataHset.raw[\"ema100D2\"]\n",
    "import matplotlib.pyplot as plt\n",
    "#plt.plot(ema100D1_raw)\n",
    "#plt.show()\n",
    "print(sum(ema100D2_[:]==ema100D2_pd[:]))\n",
    "print(len(ema100D2_))\n",
    "print(ema100D2_.isna().sum())\n",
    "print(ema100D2_.isna().sum()+sum(ema100D2_[:]==ema100D2_pd[:]))\n",
    "#print(ema100D1_pd[-10:])\n"
   ],
   "outputs": [
    {
     "output_type": "stream",
     "name": "stdout",
     "text": [
      "0.009894609451293945\n",
      "72963\n",
      "73065\n",
      "102\n",
      "73065\n"
     ]
    }
   ],
   "metadata": {}
  },
  {
   "cell_type": "code",
   "execution_count": null,
   "source": [
    "raw = dataHset.raw#.dropna()\n",
    "#print(raw.head())\n",
    "for i in range(0,20):\n",
    "    #print(i)\n",
    "    if (i+1)*24*30*12<len(raw):\n",
    "        df = raw.iloc[i*24*30*12:((i+1)*24*30*12+(24))]\n",
    "        plotsubset(df,[x.__name__ for x in dataHset.indicators ],\"H\"+str(i))\n",
    "    else:\n",
    "        df = raw.iloc[i*24*30*12:]\n",
    "        plotsubset(df,[x.__name__ for x in dataHset.indicators ],\"H\"+str(i))\n",
    "        break"
   ],
   "outputs": [],
   "metadata": {}
  },
  {
   "cell_type": "code",
   "execution_count": null,
   "source": [
    "#len(dataset.raw)\n",
    "ind = np.sign((dataHset.raw[\"ema100\"]-dataHset.raw[\"ema300\"]).to_numpy()) \n",
    "stat, count = frameTillMaxMean(\n",
    "    dataHset.raw['dema9D1'].to_numpy(), \n",
    "    ind\n",
    ")"
   ],
   "outputs": [],
   "metadata": {}
  },
  {
   "cell_type": "markdown",
   "source": [
    "# 3 class label with threshold on divergence."
   ],
   "metadata": {}
  },
  {
   "cell_type": "code",
   "execution_count": null,
   "source": [
    "from AnalysisFunc.indanal import zonePriceVarFromStart\n",
    "from AnalysisFunc.mixinds import split3way\n",
    "diff3wayind = split3way(\n",
    "    dataHset.raw['Close'].to_numpy(),\n",
    "    dataHset.raw['ema2400'].to_numpy(),\n",
    "    dataHset.raw['ema4800'].to_numpy(),\n",
    "    0.005\n",
    ")\n",
    "stat, count = zonePriceVarFromStart(dataHset.raw['Close'].to_numpy(), diff3wayind)"
   ],
   "outputs": [],
   "metadata": {}
  },
  {
   "cell_type": "code",
   "execution_count": null,
   "source": [
    "import numpy as np\n",
    "print(len(stat),count)\n",
    "print(np.mean(stat[stat[:,0]==-1,4:],axis=0))\n",
    "print(np.mean(stat[stat[:,0]==0,4:] ,axis=0))\n",
    "print(np.mean(stat[stat[:,0]==1,4:] ,axis=0))"
   ],
   "outputs": [],
   "metadata": {}
  },
  {
   "cell_type": "markdown",
   "source": [
    "# The above quantiles does indicate a difference in center and average price since the start of a zone. Suggesting to use different strategy in different zones. Plot the whole TS to confirm."
   ],
   "metadata": {}
  },
  {
   "cell_type": "code",
   "execution_count": null,
   "source": [
    "from AnalysisFunc.plots import plotsubset\n",
    "raw = dataHset.raw#.dropna()\n",
    "#print(raw.head())\n",
    "for i in range(0,20):\n",
    "    #print(i)\n",
    "    if (i+1)*24*30*12<len(raw):\n",
    "        df = raw.iloc[i*24*30*12:((i+1)*24*30*12+(24))]\n",
    "        diff3wayindsubset =  diff3wayind[i*24*30*12:((i+1)*24*30*12+(24))]\n",
    "        #print(len(diff3wayindsubset),len(df),np.sum(np.isnan(diff3wayindsubset)),np.sum(np.isnan(diff3wayind)),len((raw)))\n",
    "        plotsubset(\n",
    "            df,\n",
    "            [x.__name__ for x in dataHset.indicators ],\n",
    "            \"H\"+str(i), \n",
    "            [diff3wayind[i*24*30*12:((i+1)*24*30*12+(24))]]\n",
    "        )\n",
    "        \n",
    "    else:\n",
    "        df = raw.iloc[i*24*30*12:]\n",
    "        plotsubset(\n",
    "            df,\n",
    "            [x.__name__ for x in dataHset.indicators ],\n",
    "            \"H\"+str(i), \n",
    "            [diff3wayind[i*24*30*12:]]\n",
    "        )\n",
    "        break"
   ],
   "outputs": [],
   "metadata": {}
  },
  {
   "cell_type": "markdown",
   "source": [
    "# Now after we divided the support into 3 parts, try to see how different strategies gives enter and exit."
   ],
   "metadata": {}
  },
  {
   "cell_type": "markdown",
   "source": [
    "First try basic interval base on crossing."
   ],
   "metadata": {}
  },
  {
   "cell_type": "code",
   "execution_count": null,
   "source": [
    "# given long H+ support, find valid short H+ intervals \n",
    "dataHset.raw.columns\n"
   ],
   "outputs": [],
   "metadata": {}
  },
  {
   "cell_type": "code",
   "execution_count": null,
   "source": [
    "ind = (dataHset.raw['ema100']>dataHset.raw['ema300']) & diff3wayind == 1"
   ],
   "outputs": [],
   "metadata": {}
  },
  {
   "cell_type": "code",
   "execution_count": null,
   "source": [
    "threshold = 0.0005\n",
    "ind_2 = (dataHset.raw['ema300D1'].to_numpy()>0) | (dataHset.raw['ema100D1'].to_numpy()>0)\n",
    "ind_1 = (dataHset.raw['ema100']-dataHset.raw['ema300']) > threshold\n",
    "ind_0 = (diff3wayind == 1)\n",
    "ind = ind_2 & ind_1 & ind_0\n",
    "\n",
    "from AnalysisFunc.plots import plotsubset\n",
    "raw = dataHset.raw#.dropna()\n",
    "#print(raw.head())\n",
    "for i in range(0,20):\n",
    "    #print(i)\n",
    "    if (i+1)*24*30*12<len(raw):\n",
    "        df = raw.iloc[i*24*30*12:((i+1)*24*30*12+(24))]\n",
    "        plotsubset(\n",
    "            df,\n",
    "            [x.__name__ for x in dataHset.indicators ],\n",
    "            \"H\"+str(i), \n",
    "            [\n",
    "                diff3wayind[i*24*30*12:((i+1)*24*30*12+(24))],\n",
    "                ind[i*24*30*12:((i+1)*24*30*12+(24))],\n",
    "                #ind_0[i*24*30*12:((i+1)*24*30*12+(24))],\n",
    "                #ind_1[i*24*30*12:((i+1)*24*30*12+(24))],\n",
    "            ]\n",
    "        )\n",
    "        \n",
    "    else:\n",
    "        df = raw.iloc[i*24*30*12:]\n",
    "        plotsubset(\n",
    "            df,\n",
    "            [x.__name__ for x in dataHset.indicators ],\n",
    "            \"H\"+str(i), \n",
    "            [\n",
    "                diff3wayind[i*24*30*12:((i+1)*24*30*12+(24))],\n",
    "                ind[i*24*30*12:],\n",
    "                #ind_0[i*24*30*12:],\n",
    "                #ind_1[i*24*30*12:],\n",
    "            ]\n",
    "        )\n",
    "        break"
   ],
   "outputs": [],
   "metadata": {}
  }
 ],
 "metadata": {
  "orig_nbformat": 4,
  "language_info": {
   "name": "python",
   "version": "3.8.5",
   "mimetype": "text/x-python",
   "codemirror_mode": {
    "name": "ipython",
    "version": 3
   },
   "pygments_lexer": "ipython3",
   "nbconvert_exporter": "python",
   "file_extension": ".py"
  },
  "kernelspec": {
   "name": "python3",
   "display_name": "Python 3.8.5 64-bit ('trade': conda)"
  },
  "interpreter": {
   "hash": "6f96649bf1378d75e25b4040e1f675ba7a12e42ef59cebf50fd11546a8ef5ae0"
  }
 },
 "nbformat": 4,
 "nbformat_minor": 2
}